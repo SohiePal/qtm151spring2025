{
 "cells": [
  {
   "attachments": {},
   "cell_type": "markdown",
   "metadata": {},
   "source": [
    "# <span style=\"color:darkblue\"> Lecture 16 - Time Data </span>\n",
    "\n",
    "<font size = \"5\">\n",
    "\n",
    "In  the last lecture we ...\n",
    "- Completed the module on SQL\n",
    "- Learned about escape characters\n",
    "\n",
    "\n",
    "In  this lecture we will ...\n",
    "\n",
    "- Process time data in Python\n",
    "- Learn about wildcards"
   ]
  },
  {
   "attachments": {},
   "cell_type": "markdown",
   "metadata": {},
   "source": [
    "# <span style=\"color:darkblue\"> I. Import Libraries and Data </span>"
   ]
  },
  {
   "cell_type": "markdown",
   "metadata": {},
   "source": [
    "<font size = \"5\">\n",
    "\n",
    "Import libraries"
   ]
  },
  {
   "cell_type": "code",
   "execution_count": 3,
   "metadata": {},
   "outputs": [],
   "source": [
    "# \"pandas\" processes datasets\n",
    "# \"maplotlib.pyplot\" generates graphs\n",
    "# \"maplotlib.dates\" has advanced options for plotting dates\n",
    "# \"datetime\" handles date information\n",
    "\n",
    "import pandas as pd\n",
    "import matplotlib.pyplot as plt\n",
    "import matplotlib.dates as mdates\n",
    "from datetime import date, time, datetime"
   ]
  },
  {
   "attachments": {},
   "cell_type": "markdown",
   "metadata": {},
   "source": [
    "<font size = \"5\">\n",
    "\n",
    "Import data"
   ]
  },
  {
   "cell_type": "code",
   "execution_count": 4,
   "metadata": {},
   "outputs": [],
   "source": [
    "financial = pd.read_csv(\"data_raw/financial.csv\")"
   ]
  },
  {
   "attachments": {},
   "cell_type": "markdown",
   "metadata": {},
   "source": [
    "<font size = \"5\">\n",
    "\n",
    "\"Parse\" time columns"
   ]
  },
  {
   "cell_type": "code",
   "execution_count": 5,
   "metadata": {},
   "outputs": [],
   "source": [
    "# Convert string column to datetime format\n",
    "# If the date format is simple, you can also parse on input as\n",
    "# financial = pd.read_csv(\"data_raw/financial.csv\",parse_dates = [\"date\"]\n",
    "# See advanced options for parsing further in the lecture...\n",
    "\n",
    "financial[\"date\"] = pd.to_datetime(financial[\"date_str\"])"
   ]
  },
  {
   "attachments": {},
   "cell_type": "markdown",
   "metadata": {},
   "source": [
    "<font size = \"5\">\n",
    "\n",
    "Check Types"
   ]
  },
  {
   "cell_type": "code",
   "execution_count": 6,
   "metadata": {},
   "outputs": [
    {
     "data": {
      "text/plain": [
       "date_str            object\n",
       "sp500              float64\n",
       "djia               float64\n",
       "date_ex1            object\n",
       "date_ex2            object\n",
       "date_ex3            object\n",
       "date        datetime64[ns]\n",
       "dtype: object"
      ]
     },
     "execution_count": 6,
     "metadata": {},
     "output_type": "execute_result"
    }
   ],
   "source": [
    "# Standard data types are \"int\", \"str\", \"float\", and \"bool\"\n",
    "# There is also a \"datetime\" types\n",
    "\n",
    "financial.dtypes"
   ]
  },
  {
   "attachments": {},
   "cell_type": "markdown",
   "metadata": {},
   "source": [
    "<font size = \"5\">\n",
    "\n",
    "Visualize time data"
   ]
  },
  {
   "cell_type": "code",
   "execution_count": 7,
   "metadata": {},
   "outputs": [
    {
     "data": {
      "text/plain": [
       "Timestamp('2018-04-04 00:00:00')"
      ]
     },
     "execution_count": 7,
     "metadata": {},
     "output_type": "execute_result"
    }
   ],
   "source": [
    "financial['date'][0]"
   ]
  },
  {
   "cell_type": "code",
   "execution_count": 8,
   "metadata": {},
   "outputs": [
    {
     "data": {
      "application/vnd.microsoft.datawrangler.viewer.v0+json": {
       "columns": [
        {
         "name": "index",
         "rawType": "int64",
         "type": "integer"
        },
        {
         "name": "date_str",
         "rawType": "object",
         "type": "string"
        },
        {
         "name": "sp500",
         "rawType": "float64",
         "type": "float"
        },
        {
         "name": "djia",
         "rawType": "float64",
         "type": "float"
        },
        {
         "name": "date_ex1",
         "rawType": "object",
         "type": "string"
        },
        {
         "name": "date_ex2",
         "rawType": "object",
         "type": "string"
        },
        {
         "name": "date_ex3",
         "rawType": "object",
         "type": "string"
        },
        {
         "name": "date",
         "rawType": "datetime64[ns]",
         "type": "datetime"
        }
       ],
       "conversionMethod": "pd.DataFrame",
       "ref": "7d28bcb0-ced0-4b06-a9bf-247c7dec8912",
       "rows": [
        [
         "1304",
         "4/4/2023",
         "4100.6",
         "33402.38",
         "April 04 2023",
         "Tuesday, 2023-04-04",
         "4-Apr-23",
         "2023-04-04 00:00:00"
        ],
        [
         "1303",
         "4/3/2023",
         "4124.51",
         "33601.15",
         "April 03 2023",
         "Monday, 2023-04-03",
         "3-Apr-23",
         "2023-04-03 00:00:00"
        ],
        [
         "1302",
         "3/31/2023",
         "4109.31",
         "33274.15",
         "March 31 2023",
         "Friday, 2023-03-31",
         "31-Mar-23",
         "2023-03-31 00:00:00"
        ],
        [
         "1301",
         "3/30/2023",
         "4050.83",
         "32859.03",
         "March 30 2023",
         "Thursday, 2023-03-30",
         "30-Mar-23",
         "2023-03-30 00:00:00"
        ],
        [
         "1300",
         "3/29/2023",
         "4027.81",
         "32717.6",
         "March 29 2023",
         "Wednesday, 2023-03-29",
         "29-Mar-23",
         "2023-03-29 00:00:00"
        ],
        [
         "1299",
         "3/28/2023",
         "3971.27",
         "32394.25",
         "March 28 2023",
         "Tuesday, 2023-03-28",
         "28-Mar-23",
         "2023-03-28 00:00:00"
        ],
        [
         "1298",
         "3/27/2023",
         "3977.53",
         "32432.08",
         "March 27 2023",
         "Monday, 2023-03-27",
         "27-Mar-23",
         "2023-03-27 00:00:00"
        ],
        [
         "1297",
         "3/24/2023",
         "3970.99",
         "32237.53",
         "March 24 2023",
         "Friday, 2023-03-24",
         "24-Mar-23",
         "2023-03-24 00:00:00"
        ],
        [
         "1296",
         "3/23/2023",
         "3948.72",
         "32105.25",
         "March 23 2023",
         "Thursday, 2023-03-23",
         "23-Mar-23",
         "2023-03-23 00:00:00"
        ],
        [
         "1295",
         "3/22/2023",
         "3936.97",
         "32030.11",
         "March 22 2023",
         "Wednesday, 2023-03-22",
         "22-Mar-23",
         "2023-03-22 00:00:00"
        ],
        [
         "1294",
         "3/21/2023",
         "4002.87",
         "32560.6",
         "March 21 2023",
         "Tuesday, 2023-03-21",
         "21-Mar-23",
         "2023-03-21 00:00:00"
        ],
        [
         "1293",
         "3/20/2023",
         "3951.57",
         "32244.58",
         "March 20 2023",
         "Monday, 2023-03-20",
         "20-Mar-23",
         "2023-03-20 00:00:00"
        ],
        [
         "1292",
         "3/17/2023",
         "3916.64",
         "31861.98",
         "March 17 2023",
         "Friday, 2023-03-17",
         "17-Mar-23",
         "2023-03-17 00:00:00"
        ],
        [
         "1291",
         "3/16/2023",
         "3960.28",
         "32246.55",
         "March 16 2023",
         "Thursday, 2023-03-16",
         "16-Mar-23",
         "2023-03-16 00:00:00"
        ],
        [
         "1290",
         "3/15/2023",
         "3891.93",
         "31874.57",
         "March 15 2023",
         "Wednesday, 2023-03-15",
         "15-Mar-23",
         "2023-03-15 00:00:00"
        ],
        [
         "1289",
         "3/14/2023",
         "3919.29",
         "32155.4",
         "March 14 2023",
         "Tuesday, 2023-03-14",
         "14-Mar-23",
         "2023-03-14 00:00:00"
        ],
        [
         "1288",
         "3/13/2023",
         "3855.76",
         "31819.14",
         "March 13 2023",
         "Monday, 2023-03-13",
         "13-Mar-23",
         "2023-03-13 00:00:00"
        ],
        [
         "1287",
         "3/10/2023",
         "3861.59",
         "31909.64",
         "March 10 2023",
         "Friday, 2023-03-10",
         "10-Mar-23",
         "2023-03-10 00:00:00"
        ],
        [
         "1286",
         "3/9/2023",
         "3918.32",
         "32254.86",
         "March 09 2023",
         "Thursday, 2023-03-09",
         "9-Mar-23",
         "2023-03-09 00:00:00"
        ],
        [
         "1285",
         "3/8/2023",
         "3992.01",
         "32798.4",
         "March 08 2023",
         "Wednesday, 2023-03-08",
         "8-Mar-23",
         "2023-03-08 00:00:00"
        ],
        [
         "1284",
         "3/7/2023",
         "3986.37",
         "32856.46",
         "March 07 2023",
         "Tuesday, 2023-03-07",
         "7-Mar-23",
         "2023-03-07 00:00:00"
        ],
        [
         "1283",
         "3/6/2023",
         "4048.42",
         "33431.44",
         "March 06 2023",
         "Monday, 2023-03-06",
         "6-Mar-23",
         "2023-03-06 00:00:00"
        ],
        [
         "1282",
         "3/3/2023",
         "4045.64",
         "33390.97",
         "March 03 2023",
         "Friday, 2023-03-03",
         "3-Mar-23",
         "2023-03-03 00:00:00"
        ],
        [
         "1281",
         "3/2/2023",
         "3981.35",
         "33003.57",
         "March 02 2023",
         "Thursday, 2023-03-02",
         "2-Mar-23",
         "2023-03-02 00:00:00"
        ],
        [
         "1280",
         "3/1/2023",
         "3951.39",
         "32661.84",
         "March 01 2023",
         "Wednesday, 2023-03-01",
         "1-Mar-23",
         "2023-03-01 00:00:00"
        ],
        [
         "1279",
         "2/28/2023",
         "3970.15",
         "32656.7",
         "February 28 2023",
         "Tuesday, 2023-02-28",
         "28-Feb-23",
         "2023-02-28 00:00:00"
        ],
        [
         "1278",
         "2/27/2023",
         "3982.24",
         "32889.09",
         "February 27 2023",
         "Monday, 2023-02-27",
         "27-Feb-23",
         "2023-02-27 00:00:00"
        ],
        [
         "1277",
         "2/24/2023",
         "3970.04",
         "32816.92",
         "February 24 2023",
         "Friday, 2023-02-24",
         "24-Feb-23",
         "2023-02-24 00:00:00"
        ],
        [
         "1276",
         "2/23/2023",
         "4012.32",
         "33153.91",
         "February 23 2023",
         "Thursday, 2023-02-23",
         "23-Feb-23",
         "2023-02-23 00:00:00"
        ],
        [
         "1275",
         "2/22/2023",
         "3991.05",
         "33045.09",
         "February 22 2023",
         "Wednesday, 2023-02-22",
         "22-Feb-23",
         "2023-02-22 00:00:00"
        ],
        [
         "1274",
         "2/21/2023",
         "3997.34",
         "33129.59",
         "February 21 2023",
         "Tuesday, 2023-02-21",
         "21-Feb-23",
         "2023-02-21 00:00:00"
        ],
        [
         "1273",
         "2/20/2023",
         null,
         null,
         "February 20 2023",
         "Monday, 2023-02-20",
         "20-Feb-23",
         "2023-02-20 00:00:00"
        ],
        [
         "1272",
         "2/17/2023",
         "4079.09",
         "33826.69",
         "February 17 2023",
         "Friday, 2023-02-17",
         "17-Feb-23",
         "2023-02-17 00:00:00"
        ],
        [
         "1271",
         "2/16/2023",
         "4090.41",
         "33696.85",
         "February 16 2023",
         "Thursday, 2023-02-16",
         "16-Feb-23",
         "2023-02-16 00:00:00"
        ],
        [
         "1270",
         "2/15/2023",
         "4147.6",
         "34128.05",
         "February 15 2023",
         "Wednesday, 2023-02-15",
         "15-Feb-23",
         "2023-02-15 00:00:00"
        ],
        [
         "1269",
         "2/14/2023",
         "4136.13",
         "34089.27",
         "February 14 2023",
         "Tuesday, 2023-02-14",
         "14-Feb-23",
         "2023-02-14 00:00:00"
        ],
        [
         "1268",
         "2/13/2023",
         "4137.29",
         "34245.93",
         "February 13 2023",
         "Monday, 2023-02-13",
         "13-Feb-23",
         "2023-02-13 00:00:00"
        ],
        [
         "1267",
         "2/10/2023",
         "4090.46",
         "33869.27",
         "February 10 2023",
         "Friday, 2023-02-10",
         "10-Feb-23",
         "2023-02-10 00:00:00"
        ],
        [
         "1266",
         "2/9/2023",
         "4081.5",
         "33699.88",
         "February 09 2023",
         "Thursday, 2023-02-09",
         "9-Feb-23",
         "2023-02-09 00:00:00"
        ],
        [
         "1265",
         "2/8/2023",
         "4117.86",
         "33949.01",
         "February 08 2023",
         "Wednesday, 2023-02-08",
         "8-Feb-23",
         "2023-02-08 00:00:00"
        ],
        [
         "1264",
         "2/7/2023",
         "4164.0",
         "34156.69",
         "February 07 2023",
         "Tuesday, 2023-02-07",
         "7-Feb-23",
         "2023-02-07 00:00:00"
        ],
        [
         "1263",
         "2/6/2023",
         "4111.08",
         "33891.02",
         "February 06 2023",
         "Monday, 2023-02-06",
         "6-Feb-23",
         "2023-02-06 00:00:00"
        ],
        [
         "1262",
         "2/3/2023",
         "4136.48",
         "33926.01",
         "February 03 2023",
         "Friday, 2023-02-03",
         "3-Feb-23",
         "2023-02-03 00:00:00"
        ],
        [
         "1261",
         "2/2/2023",
         "4179.76",
         "34053.94",
         "February 02 2023",
         "Thursday, 2023-02-02",
         "2-Feb-23",
         "2023-02-02 00:00:00"
        ],
        [
         "1260",
         "2/1/2023",
         "4119.21",
         "34092.96",
         "February 01 2023",
         "Wednesday, 2023-02-01",
         "1-Feb-23",
         "2023-02-01 00:00:00"
        ],
        [
         "1259",
         "1/31/2023",
         "4076.6",
         "34086.04",
         "January 31 2023",
         "Tuesday, 2023-01-31",
         "31-Jan-23",
         "2023-01-31 00:00:00"
        ],
        [
         "1258",
         "1/30/2023",
         "4017.77",
         "33717.09",
         "January 30 2023",
         "Monday, 2023-01-30",
         "30-Jan-23",
         "2023-01-30 00:00:00"
        ],
        [
         "1257",
         "1/27/2023",
         "4070.56",
         "33978.08",
         "January 27 2023",
         "Friday, 2023-01-27",
         "27-Jan-23",
         "2023-01-27 00:00:00"
        ],
        [
         "1256",
         "1/26/2023",
         "4060.43",
         "33949.41",
         "January 26 2023",
         "Thursday, 2023-01-26",
         "26-Jan-23",
         "2023-01-26 00:00:00"
        ],
        [
         "1255",
         "1/25/2023",
         "4016.22",
         "33743.84",
         "January 25 2023",
         "Wednesday, 2023-01-25",
         "25-Jan-23",
         "2023-01-25 00:00:00"
        ]
       ],
       "shape": {
        "columns": 7,
        "rows": 1305
       }
      },
      "text/html": [
       "<div>\n",
       "<style scoped>\n",
       "    .dataframe tbody tr th:only-of-type {\n",
       "        vertical-align: middle;\n",
       "    }\n",
       "\n",
       "    .dataframe tbody tr th {\n",
       "        vertical-align: top;\n",
       "    }\n",
       "\n",
       "    .dataframe thead th {\n",
       "        text-align: right;\n",
       "    }\n",
       "</style>\n",
       "<table border=\"1\" class=\"dataframe\">\n",
       "  <thead>\n",
       "    <tr style=\"text-align: right;\">\n",
       "      <th></th>\n",
       "      <th>date_str</th>\n",
       "      <th>sp500</th>\n",
       "      <th>djia</th>\n",
       "      <th>date_ex1</th>\n",
       "      <th>date_ex2</th>\n",
       "      <th>date_ex3</th>\n",
       "      <th>date</th>\n",
       "    </tr>\n",
       "  </thead>\n",
       "  <tbody>\n",
       "    <tr>\n",
       "      <th>1304</th>\n",
       "      <td>4/4/2023</td>\n",
       "      <td>4100.60</td>\n",
       "      <td>33402.38</td>\n",
       "      <td>April 04 2023</td>\n",
       "      <td>Tuesday, 2023-04-04</td>\n",
       "      <td>4-Apr-23</td>\n",
       "      <td>2023-04-04</td>\n",
       "    </tr>\n",
       "    <tr>\n",
       "      <th>1303</th>\n",
       "      <td>4/3/2023</td>\n",
       "      <td>4124.51</td>\n",
       "      <td>33601.15</td>\n",
       "      <td>April 03 2023</td>\n",
       "      <td>Monday, 2023-04-03</td>\n",
       "      <td>3-Apr-23</td>\n",
       "      <td>2023-04-03</td>\n",
       "    </tr>\n",
       "    <tr>\n",
       "      <th>1302</th>\n",
       "      <td>3/31/2023</td>\n",
       "      <td>4109.31</td>\n",
       "      <td>33274.15</td>\n",
       "      <td>March 31 2023</td>\n",
       "      <td>Friday, 2023-03-31</td>\n",
       "      <td>31-Mar-23</td>\n",
       "      <td>2023-03-31</td>\n",
       "    </tr>\n",
       "    <tr>\n",
       "      <th>1301</th>\n",
       "      <td>3/30/2023</td>\n",
       "      <td>4050.83</td>\n",
       "      <td>32859.03</td>\n",
       "      <td>March 30 2023</td>\n",
       "      <td>Thursday, 2023-03-30</td>\n",
       "      <td>30-Mar-23</td>\n",
       "      <td>2023-03-30</td>\n",
       "    </tr>\n",
       "    <tr>\n",
       "      <th>1300</th>\n",
       "      <td>3/29/2023</td>\n",
       "      <td>4027.81</td>\n",
       "      <td>32717.60</td>\n",
       "      <td>March 29 2023</td>\n",
       "      <td>Wednesday, 2023-03-29</td>\n",
       "      <td>29-Mar-23</td>\n",
       "      <td>2023-03-29</td>\n",
       "    </tr>\n",
       "    <tr>\n",
       "      <th>...</th>\n",
       "      <td>...</td>\n",
       "      <td>...</td>\n",
       "      <td>...</td>\n",
       "      <td>...</td>\n",
       "      <td>...</td>\n",
       "      <td>...</td>\n",
       "      <td>...</td>\n",
       "    </tr>\n",
       "    <tr>\n",
       "      <th>4</th>\n",
       "      <td>4/10/2018</td>\n",
       "      <td>2656.87</td>\n",
       "      <td>24408.00</td>\n",
       "      <td>April 10 2018</td>\n",
       "      <td>Tuesday, 2018-04-10</td>\n",
       "      <td>10-Apr-18</td>\n",
       "      <td>2018-04-10</td>\n",
       "    </tr>\n",
       "    <tr>\n",
       "      <th>3</th>\n",
       "      <td>4/9/2018</td>\n",
       "      <td>2613.16</td>\n",
       "      <td>23979.10</td>\n",
       "      <td>April 09 2018</td>\n",
       "      <td>Monday, 2018-04-09</td>\n",
       "      <td>9-Apr-18</td>\n",
       "      <td>2018-04-09</td>\n",
       "    </tr>\n",
       "    <tr>\n",
       "      <th>2</th>\n",
       "      <td>4/6/2018</td>\n",
       "      <td>2604.47</td>\n",
       "      <td>23932.76</td>\n",
       "      <td>April 06 2018</td>\n",
       "      <td>Friday, 2018-04-06</td>\n",
       "      <td>6-Apr-18</td>\n",
       "      <td>2018-04-06</td>\n",
       "    </tr>\n",
       "    <tr>\n",
       "      <th>1</th>\n",
       "      <td>4/5/2018</td>\n",
       "      <td>2662.84</td>\n",
       "      <td>24505.22</td>\n",
       "      <td>April 05 2018</td>\n",
       "      <td>Thursday, 2018-04-05</td>\n",
       "      <td>5-Apr-18</td>\n",
       "      <td>2018-04-05</td>\n",
       "    </tr>\n",
       "    <tr>\n",
       "      <th>0</th>\n",
       "      <td>4/4/2018</td>\n",
       "      <td>2644.69</td>\n",
       "      <td>24264.30</td>\n",
       "      <td>April 04 2018</td>\n",
       "      <td>Wednesday, 2018-04-04</td>\n",
       "      <td>4-Apr-18</td>\n",
       "      <td>2018-04-04</td>\n",
       "    </tr>\n",
       "  </tbody>\n",
       "</table>\n",
       "<p>1305 rows × 7 columns</p>\n",
       "</div>"
      ],
      "text/plain": [
       "       date_str    sp500      djia       date_ex1               date_ex2  \\\n",
       "1304   4/4/2023  4100.60  33402.38  April 04 2023    Tuesday, 2023-04-04   \n",
       "1303   4/3/2023  4124.51  33601.15  April 03 2023     Monday, 2023-04-03   \n",
       "1302  3/31/2023  4109.31  33274.15  March 31 2023     Friday, 2023-03-31   \n",
       "1301  3/30/2023  4050.83  32859.03  March 30 2023   Thursday, 2023-03-30   \n",
       "1300  3/29/2023  4027.81  32717.60  March 29 2023  Wednesday, 2023-03-29   \n",
       "...         ...      ...       ...            ...                    ...   \n",
       "4     4/10/2018  2656.87  24408.00  April 10 2018    Tuesday, 2018-04-10   \n",
       "3      4/9/2018  2613.16  23979.10  April 09 2018     Monday, 2018-04-09   \n",
       "2      4/6/2018  2604.47  23932.76  April 06 2018     Friday, 2018-04-06   \n",
       "1      4/5/2018  2662.84  24505.22  April 05 2018   Thursday, 2018-04-05   \n",
       "0      4/4/2018  2644.69  24264.30  April 04 2018  Wednesday, 2018-04-04   \n",
       "\n",
       "       date_ex3       date  \n",
       "1304   4-Apr-23 2023-04-04  \n",
       "1303   3-Apr-23 2023-04-03  \n",
       "1302  31-Mar-23 2023-03-31  \n",
       "1301  30-Mar-23 2023-03-30  \n",
       "1300  29-Mar-23 2023-03-29  \n",
       "...         ...        ...  \n",
       "4     10-Apr-18 2018-04-10  \n",
       "3      9-Apr-18 2018-04-09  \n",
       "2      6-Apr-18 2018-04-06  \n",
       "1      5-Apr-18 2018-04-05  \n",
       "0      4-Apr-18 2018-04-04  \n",
       "\n",
       "[1305 rows x 7 columns]"
      ]
     },
     "execution_count": 8,
     "metadata": {},
     "output_type": "execute_result"
    }
   ],
   "source": [
    "financial.sort_values(\"date\",ascending = False)"
   ]
  },
  {
   "cell_type": "code",
   "execution_count": 9,
   "metadata": {},
   "outputs": [
    {
     "data": {
      "text/plain": [
       "Text(0.5, 1.0, 'The evolution of the stock market')"
      ]
     },
     "execution_count": 9,
     "metadata": {},
     "output_type": "execute_result"
    },
    {
     "data": {
      "image/png": "[encoded data removed]",
      "text/plain": [
       "<Figure size 640x480 with 1 Axes>"
      ]
     },
     "metadata": {},
     "output_type": "display_data"
    }
   ],
   "source": [
    "# plt.plot() is used to create line plots\n",
    "# The first two arguments are column names for the (x,y) data\n",
    "# The third argument is the data\n",
    "# Make sure that the data is sorted, since the lines will be connected\n",
    "# based on the order of the dataset\n",
    "\n",
    "plt.plot(\"date\", \"sp500\",\n",
    "          data = financial)\n",
    "plt.xlabel(\"Time\")\n",
    "plt.ylabel(\"S&P 500 Index\")\n",
    "plt.title(\"The evolution of the stock market\")\n"
   ]
  },
  {
   "attachments": {},
   "cell_type": "markdown",
   "metadata": {},
   "source": [
    "<font size = \"5\">\n",
    "\n",
    "S&P 500 tracks the average performance of <br>\n",
    "of the largest companies in the US stock market\n",
    "\n",
    "$\\quad$ https://en.wikipedia.org/wiki/S%26P_500 <br>\n",
    "$\\quad$ https://fred.stlouisfed.org/series/SP500"
   ]
  },
  {
   "attachments": {},
   "cell_type": "markdown",
   "metadata": {},
   "source": [
    "<font size = \"5\">\n",
    "\n",
    "Try it yourself!\n",
    "\n",
    "- Generate a line plot which has the Dow Jones <br>\n",
    "Industrial Index (\"djia\") on the y-axis and <br>\n",
    "\"date\" on the x-axis."
   ]
  },
  {
   "cell_type": "code",
   "execution_count": 25,
   "metadata": {},
   "outputs": [
    {
     "data": {
      "text/plain": [
       "Text(0.5, 1.0, 'Dow Jones Industrial Index Over Time')"
      ]
     },
     "execution_count": 25,
     "metadata": {},
     "output_type": "execute_result"
    },
    {
     "data": {
      "image/png": "[encoded data removed]",
      "text/plain": [
       "<Figure size 640x480 with 1 Axes>"
      ]
     },
     "metadata": {},
     "output_type": "display_data"
    }
   ],
   "source": [
    "# Write your own code\n",
    "\n",
    "# plt.plot() is used to create line plots\n",
    "# The first two arguments are column names for the (x,y) data\n",
    "# The third argument is the data\n",
    "# Make sure that the data is sorted, since the lines will be connected\n",
    "# based on the order of the dataset\n",
    "\n",
    "plt.plot(\"date\", \"djia\",\n",
    "          data = financial)\n",
    "plt.ylabel(\"Dow Jones Industrial Index\")\n",
    "plt.xlabel(\"Date\")\n",
    "plt.title(\"Dow Jones Industrial Index Over Time\")\n",
    "\n",
    "\n"
   ]
  },
  {
   "attachments": {},
   "cell_type": "markdown",
   "metadata": {},
   "source": [
    "# <span style=\"color:darkblue\"> II. Dates + Wild Cards  </span>"
   ]
  },
  {
   "attachments": {},
   "cell_type": "markdown",
   "metadata": {},
   "source": [
    "<font size = \"5\">\n",
    "\n",
    "Convert to string (a)\n",
    "\n",
    "\n",
    "- A wildcard ```%``` is used to denote date formats\n",
    "- Useful when working with text data\n",
    "\n",
    "$\\quad$ <img src=\"figures/wildcards_fig1.png\" alt=\"drawing\" width=\"300\"/>"
   ]
  },
  {
   "cell_type": "code",
   "execution_count": 29,
   "metadata": {},
   "outputs": [
    {
     "name": "stdout",
     "output_type": "stream",
     "text": [
      "0       04\n",
      "1       04\n",
      "2       04\n",
      "3       04\n",
      "4       04\n",
      "        ..\n",
      "1300    03\n",
      "1301    03\n",
      "1302    03\n",
      "1303    04\n",
      "1304    04\n",
      "Name: month_str, Length: 1305, dtype: object\n"
     ]
    }
   ],
   "source": [
    "# \"String from time\" .dt.strftime()\n",
    "# The first argument needs to be a datetime type \n",
    "# The second argument is the format you want to use\n",
    "# Note: \"dt\" stands for datatime\n",
    "\n",
    "financial[\"month_str\"] = financial[\"date\"].dt.strftime(\"%m\")\n",
    "financial[\"week_str\"]  = financial[\"date\"].dt.strftime(\"%W\")\n"
   ]
  },
  {
   "attachments": {},
   "cell_type": "markdown",
   "metadata": {},
   "source": [
    "<font size = \"5\">\n",
    "\n",
    "Convert to string (b)\n",
    "\n",
    "$\\quad$ <img src=\"figures/wildcards_fig2.png\" alt=\"drawing\" width=\"400\"/>"
   ]
  },
  {
   "cell_type": "code",
   "execution_count": 28,
   "metadata": {},
   "outputs": [
    {
     "name": "stdout",
     "output_type": "stream",
     "text": [
      "0       Apr\n",
      "1       Apr\n",
      "2       Apr\n",
      "3       Apr\n",
      "4       Apr\n",
      "       ... \n",
      "1300    Mar\n",
      "1301    Mar\n",
      "1302    Mar\n",
      "1303    Apr\n",
      "1304    Apr\n",
      "Name: monthname, Length: 1305, dtype: object\n"
     ]
    }
   ],
   "source": [
    "financial[\"monthname\"]   =  financial[\"date\"].dt.strftime(\"%B\")\n",
    "financial[\"weekdayname\"] =  financial[\"date\"].dt.strftime(\"%A\")"
   ]
  },
  {
   "attachments": {},
   "cell_type": "markdown",
   "metadata": {},
   "source": [
    "<font size = \"5\">\n",
    "\n",
    "Personalized format"
   ]
  },
  {
   "cell_type": "code",
   "execution_count": 32,
   "metadata": {},
   "outputs": [
    {
     "name": "stdout",
     "output_type": "stream",
     "text": [
      "0       2018-04\n",
      "1       2018-04\n",
      "2       2018-04\n",
      "3       2018-04\n",
      "4       2018-04\n",
      "         ...   \n",
      "1300    2023-03\n",
      "1301    2023-03\n",
      "1302    2023-03\n",
      "1303    2023-04\n",
      "1304    2023-04\n",
      "Name: date, Length: 1305, dtype: object\n"
     ]
    }
   ],
   "source": [
    "# Insert wildcards inside custom strings\n",
    "# Internally it will \"fill-in-the-blank\" with the corresponding information\n",
    "# You can use commas, dashes (--), slash (/) or other characters\n",
    "\n",
    "message_monthname =  financial[\"date\"].dt.strftime(\"This is the month of %B\")\n",
    "message_monthday  =  financial[\"date\"].dt.strftime(\"The day of the week is %A\")\n",
    "message_yearmonth =  financial[\"date\"].dt.strftime(\"%Y-%m\")\n"
   ]
  },
  {
   "attachments": {},
   "cell_type": "markdown",
   "metadata": {},
   "source": [
    "<font size = \"5\">\n",
    "\n",
    "Try it yourself!\n",
    "\n",
    "- Create a new column called \"date_test\" <br>\n",
    "  which has the format using ```.dt.strftime()```\n",
    "  \n",
    "$\\quad$ ```Monday, December 31, 2023 ```"
   ]
  },
  {
   "cell_type": "code",
   "execution_count": 35,
   "metadata": {},
   "outputs": [
    {
     "name": "stdout",
     "output_type": "stream",
     "text": [
      "0       Wednesday, April, 2018\n",
      "1        Thursday, April, 2018\n",
      "2          Friday, April, 2018\n",
      "3          Monday, April, 2018\n",
      "4         Tuesday, April, 2018\n",
      "                 ...          \n",
      "1300    Wednesday, March, 2023\n",
      "1301     Thursday, March, 2023\n",
      "1302       Friday, March, 2023\n",
      "1303       Monday, April, 2023\n",
      "1304      Tuesday, April, 2023\n",
      "Name: date_test, Length: 1305, dtype: object\n"
     ]
    }
   ],
   "source": [
    "# Write your own code\n",
    "\n",
    "financial[\"date_test\"] =  financial[\"date\"].dt.strftime(\"%A, %B, %Y\")\n",
    "print(financial[\"date_test\"])"
   ]
  },
  {
   "attachments": {},
   "cell_type": "markdown",
   "metadata": {},
   "source": [
    "# <span style=\"color:darkblue\"> III. Data Operations </span>"
   ]
  },
  {
   "attachments": {},
   "cell_type": "markdown",
   "metadata": {},
   "source": [
    "<font size = \"5\">\n",
    "\n",
    "Parsing + wild cards\n",
    "\n",
    "$\\quad$ <img src=\"figures/wildcards_fig3.png\" alt=\"drawing\" width=\"400\"/>"
   ]
  },
  {
   "cell_type": "code",
   "execution_count": 46,
   "metadata": {},
   "outputs": [
    {
     "name": "stdout",
     "output_type": "stream",
     "text": [
      "0       April 04 2018\n",
      "1       April 05 2018\n",
      "2       April 06 2018\n",
      "3       April 09 2018\n",
      "4       April 10 2018\n",
      "            ...      \n",
      "1300    March 29 2023\n",
      "1301    March 30 2023\n",
      "1302    March 31 2023\n",
      "1303    April 03 2023\n",
      "1304    April 04 2023\n",
      "Name: date_ex1, Length: 1305, dtype: object\n",
      "0       Wednesday, 2018-04-04\n",
      "1        Thursday, 2018-04-05\n",
      "2          Friday, 2018-04-06\n",
      "3          Monday, 2018-04-09\n",
      "4         Tuesday, 2018-04-10\n",
      "                ...          \n",
      "1300    Wednesday, 2023-03-29\n",
      "1301     Thursday, 2023-03-30\n",
      "1302       Friday, 2023-03-31\n",
      "1303       Monday, 2023-04-03\n",
      "1304      Tuesday, 2023-04-04\n",
      "Name: date_ex2, Length: 1305, dtype: object\n"
     ]
    }
   ],
   "source": [
    "# Combine wildcards + characters depending on the input\n",
    "# Can include spaces, commas, \"/\", \"-\" or any other formatting\n",
    "# Be careful to include the wildcar letters in upper or lower case \n",
    "# depending on the intended format \n",
    "\n",
    "financial['date_ex1_dt'] = pd.to_datetime(financial[\"date_ex1\"], format = \"%B %d %Y\")\n",
    "financial['date_ex2_dt'] = pd.to_datetime(financial[\"date_ex2\"], format = \"%A, %Y-%m-%d\")\n",
    "\n",
    "print(financial['date_ex1'])\n",
    "print(financial['date_ex2'])"
   ]
  },
  {
   "cell_type": "markdown",
   "metadata": {},
   "source": [
    "**Does the following line of code work?** ```pd.to_datetime(financial[\"date_ex1\"], format = \"%A, %Y-%m-%d\")```"
   ]
  },
  {
   "attachments": {},
   "cell_type": "markdown",
   "metadata": {},
   "source": [
    "<font size = \"5\">\n",
    "\n",
    "Period grouping"
   ]
  },
  {
   "cell_type": "code",
   "execution_count": 41,
   "metadata": {},
   "outputs": [
    {
     "name": "stdout",
     "output_type": "stream",
     "text": [
      "TimeGrouper(key='date', freq=<YearEnd: month=12>, axis=0, sort=True, dropna=True, closed='right', label='right', how='mean', convention='e', origin='start_day')\n"
     ]
    },
    {
     "name": "stderr",
     "output_type": "stream",
     "text": [
      "/var/folders/kl/6ml96vh53xs7nbk2b64wykrw0000gn/T/ipykernel_62707/2365428664.py:5: FutureWarning: 'y' is deprecated and will be removed in a future version, please use 'YE' instead.\n",
      "  month_config = pd.Grouper(key='date', freq='y')\n"
     ]
    }
   ],
   "source": [
    "# In \"freq\" specify the letter for the level of aggregation\n",
    "# year (y), month (m), week (w), day(d)\n",
    "# There are also more advanced options! See documentation\n",
    "\n",
    "month_config = pd.Grouper(key='date', freq='y')\n"
   ]
  },
  {
   "attachments": {},
   "cell_type": "markdown",
   "metadata": {},
   "source": [
    "<font size = \"5\">\n",
    "\n",
    "Aggregate by period"
   ]
  },
  {
   "cell_type": "code",
   "execution_count": 17,
   "metadata": {},
   "outputs": [
    {
     "data": {
      "application/vnd.microsoft.datawrangler.viewer.v0+json": {
       "columns": [
        {
         "name": "index",
         "rawType": "int64",
         "type": "integer"
        },
        {
         "name": "date",
         "rawType": "datetime64[ns]",
         "type": "datetime"
        },
        {
         "name": "sp500_mean",
         "rawType": "float64",
         "type": "float"
        }
       ],
       "conversionMethod": "pd.DataFrame",
       "ref": "0b3bee97-d68a-4b85-91f3-7ac58dad873c",
       "rows": [
        [
         "0",
         "2018-12-31 00:00:00",
         "2751.9218617021274"
        ],
        [
         "1",
         "2019-12-31 00:00:00",
         "2913.3605555555555"
        ],
        [
         "2",
         "2020-12-31 00:00:00",
         "3217.8564822134385"
        ],
        [
         "3",
         "2021-12-31 00:00:00",
         "4273.406626984127"
        ],
        [
         "4",
         "2022-12-31 00:00:00",
         "4098.514741035857"
        ],
        [
         "5",
         "2023-12-31 00:00:00",
         "4003.57984375"
        ]
       ],
       "shape": {
        "columns": 2,
        "rows": 6
       }
      },
      "text/html": [
       "<div>\n",
       "<style scoped>\n",
       "    .dataframe tbody tr th:only-of-type {\n",
       "        vertical-align: middle;\n",
       "    }\n",
       "\n",
       "    .dataframe tbody tr th {\n",
       "        vertical-align: top;\n",
       "    }\n",
       "\n",
       "    .dataframe thead th {\n",
       "        text-align: right;\n",
       "    }\n",
       "</style>\n",
       "<table border=\"1\" class=\"dataframe\">\n",
       "  <thead>\n",
       "    <tr style=\"text-align: right;\">\n",
       "      <th></th>\n",
       "      <th>date</th>\n",
       "      <th>sp500_mean</th>\n",
       "    </tr>\n",
       "  </thead>\n",
       "  <tbody>\n",
       "    <tr>\n",
       "      <th>0</th>\n",
       "      <td>2018-12-31</td>\n",
       "      <td>2751.921862</td>\n",
       "    </tr>\n",
       "    <tr>\n",
       "      <th>1</th>\n",
       "      <td>2019-12-31</td>\n",
       "      <td>2913.360556</td>\n",
       "    </tr>\n",
       "    <tr>\n",
       "      <th>2</th>\n",
       "      <td>2020-12-31</td>\n",
       "      <td>3217.856482</td>\n",
       "    </tr>\n",
       "    <tr>\n",
       "      <th>3</th>\n",
       "      <td>2021-12-31</td>\n",
       "      <td>4273.406627</td>\n",
       "    </tr>\n",
       "    <tr>\n",
       "      <th>4</th>\n",
       "      <td>2022-12-31</td>\n",
       "      <td>4098.514741</td>\n",
       "    </tr>\n",
       "    <tr>\n",
       "      <th>5</th>\n",
       "      <td>2023-12-31</td>\n",
       "      <td>4003.579844</td>\n",
       "    </tr>\n",
       "  </tbody>\n",
       "</table>\n",
       "</div>"
      ],
      "text/plain": [
       "        date   sp500_mean\n",
       "0 2018-12-31  2751.921862\n",
       "1 2019-12-31  2913.360556\n",
       "2 2020-12-31  3217.856482\n",
       "3 2021-12-31  4273.406627\n",
       "4 2022-12-31  4098.514741\n",
       "5 2023-12-31  4003.579844"
      ]
     },
     "execution_count": 17,
     "metadata": {},
     "output_type": "execute_result"
    }
   ],
   "source": [
    "financial.groupby(month_config).agg(sp500_mean = (\"sp500\",\"mean\")).reset_index()"
   ]
  },
  {
   "cell_type": "code",
   "execution_count": 18,
   "metadata": {},
   "outputs": [],
   "source": [
    "# Group on the period column\n",
    "# We use a wrapper () to split the command into multiple lines\n",
    "# The \".reset_index()\" option ensures that the grouper is\n",
    "# converted to a column. This is important for plotting.\n",
    "# There's a lot of options to \n",
    "\n",
    "monthlydata = (financial\n",
    "               .groupby(month_config) \n",
    "               .agg(sp500_mean = (\"sp500\",\"mean\"))\n",
    "               .reset_index())"
   ]
  },
  {
   "cell_type": "code",
   "execution_count": 19,
   "metadata": {},
   "outputs": [
    {
     "data": {
      "application/vnd.microsoft.datawrangler.viewer.v0+json": {
       "columns": [
        {
         "name": "index",
         "rawType": "int64",
         "type": "integer"
        },
        {
         "name": "date",
         "rawType": "datetime64[ns]",
         "type": "datetime"
        },
        {
         "name": "sp500_mean",
         "rawType": "float64",
         "type": "float"
        }
       ],
       "conversionMethod": "pd.DataFrame",
       "ref": "5b349971-a770-406f-beaf-c78ed2f962fd",
       "rows": [
        [
         "0",
         "2018-12-31 00:00:00",
         "2751.9218617021274"
        ],
        [
         "1",
         "2019-12-31 00:00:00",
         "2913.3605555555555"
        ],
        [
         "2",
         "2020-12-31 00:00:00",
         "3217.8564822134385"
        ],
        [
         "3",
         "2021-12-31 00:00:00",
         "4273.406626984127"
        ],
        [
         "4",
         "2022-12-31 00:00:00",
         "4098.514741035857"
        ],
        [
         "5",
         "2023-12-31 00:00:00",
         "4003.57984375"
        ]
       ],
       "shape": {
        "columns": 2,
        "rows": 6
       }
      },
      "text/html": [
       "<div>\n",
       "<style scoped>\n",
       "    .dataframe tbody tr th:only-of-type {\n",
       "        vertical-align: middle;\n",
       "    }\n",
       "\n",
       "    .dataframe tbody tr th {\n",
       "        vertical-align: top;\n",
       "    }\n",
       "\n",
       "    .dataframe thead th {\n",
       "        text-align: right;\n",
       "    }\n",
       "</style>\n",
       "<table border=\"1\" class=\"dataframe\">\n",
       "  <thead>\n",
       "    <tr style=\"text-align: right;\">\n",
       "      <th></th>\n",
       "      <th>date</th>\n",
       "      <th>sp500_mean</th>\n",
       "    </tr>\n",
       "  </thead>\n",
       "  <tbody>\n",
       "    <tr>\n",
       "      <th>0</th>\n",
       "      <td>2018-12-31</td>\n",
       "      <td>2751.921862</td>\n",
       "    </tr>\n",
       "    <tr>\n",
       "      <th>1</th>\n",
       "      <td>2019-12-31</td>\n",
       "      <td>2913.360556</td>\n",
       "    </tr>\n",
       "    <tr>\n",
       "      <th>2</th>\n",
       "      <td>2020-12-31</td>\n",
       "      <td>3217.856482</td>\n",
       "    </tr>\n",
       "    <tr>\n",
       "      <th>3</th>\n",
       "      <td>2021-12-31</td>\n",
       "      <td>4273.406627</td>\n",
       "    </tr>\n",
       "    <tr>\n",
       "      <th>4</th>\n",
       "      <td>2022-12-31</td>\n",
       "      <td>4098.514741</td>\n",
       "    </tr>\n",
       "    <tr>\n",
       "      <th>5</th>\n",
       "      <td>2023-12-31</td>\n",
       "      <td>4003.579844</td>\n",
       "    </tr>\n",
       "  </tbody>\n",
       "</table>\n",
       "</div>"
      ],
      "text/plain": [
       "        date   sp500_mean\n",
       "0 2018-12-31  2751.921862\n",
       "1 2019-12-31  2913.360556\n",
       "2 2020-12-31  3217.856482\n",
       "3 2021-12-31  4273.406627\n",
       "4 2022-12-31  4098.514741\n",
       "5 2023-12-31  4003.579844"
      ]
     },
     "execution_count": 19,
     "metadata": {},
     "output_type": "execute_result"
    }
   ],
   "source": [
    "monthlydata"
   ]
  },
  {
   "attachments": {},
   "cell_type": "markdown",
   "metadata": {},
   "source": [
    "<font size = \"5\">\n",
    "\n",
    "Plot aggregate data"
   ]
  },
  {
   "cell_type": "code",
   "execution_count": 20,
   "metadata": {},
   "outputs": [
    {
     "data": {
      "text/plain": [
       "Text(0.5, 1.0, 'Monthly average stock market performance')"
      ]
     },
     "execution_count": 20,
     "metadata": {},
     "output_type": "execute_result"
    },
    {
     "data": {
      "image/png": "[encoded data removed]",
      "text/plain": [
       "<Figure size 640x480 with 1 Axes>"
      ]
     },
     "metadata": {},
     "output_type": "display_data"
    }
   ],
   "source": [
    "plt.plot(\"date\",\"sp500_mean\",\n",
    "          data = monthlydata)\n",
    "plt.xlabel(\"Time\")\n",
    "plt.ylabel(\"S&P 500\")\n",
    "plt.title(\"Monthly average stock market performance\")"
   ]
  },
  {
   "attachments": {},
   "cell_type": "markdown",
   "metadata": {},
   "source": [
    "<font size = \"5\">\n",
    "\n",
    "Try it yourself!\n",
    "\n",
    "- Practice ```pd.to_datetime()```\n",
    "- Parse the column \"data_ex3\"\n",
    "- Take a close look at the formatting\n",
    "\n",
    "HINT: Refer to the table of wildcards <br>\n",
    " in the previous section\n"
   ]
  },
  {
   "cell_type": "markdown",
   "metadata": {},
   "source": [
    "<font size = \"5\">\n",
    "\n",
    "Data ex3\n",
    "\n",
    "$\\quad$ <img src=\"figures/wildcards_fig3.png\" alt=\"drawing\" width=\"400\"/>"
   ]
  },
  {
   "cell_type": "code",
   "execution_count": 57,
   "metadata": {},
   "outputs": [
    {
     "name": "stdout",
     "output_type": "stream",
     "text": [
      "0      2018-04-04\n",
      "1      2018-04-05\n",
      "2      2018-04-06\n",
      "3      2018-04-09\n",
      "4      2018-04-10\n",
      "          ...    \n",
      "1300   2023-03-29\n",
      "1301   2023-03-30\n",
      "1302   2023-03-31\n",
      "1303   2023-04-03\n",
      "1304   2023-04-04\n",
      "Name: date_ex3_dt, Length: 1305, dtype: datetime64[ns]\n"
     ]
    }
   ],
   "source": [
    "# Write your own code\n",
    "\n",
    "financial['date_ex3_dt'] = pd.to_datetime(financial['date_ex3'], format='%d-%b-%y')\n",
    "print(financial['date_ex3_dt'])"
   ]
  },
  {
   "attachments": {},
   "cell_type": "markdown",
   "metadata": {},
   "source": [
    "<font size = \"5\">\n",
    "\n"
   ]
  },
  {
   "attachments": {},
   "cell_type": "markdown",
   "metadata": {},
   "source": [
    "<font size = \"5\">\n",
    "\n",
    "Try it yourself!\n",
    "\n",
    "- Compute an aggregate dataset which computes the standard <br>\n",
    "deviation of the S&P 500 at the weekly level.\n",
    "- Generate a line plot with your results\n"
   ]
  },
  {
   "cell_type": "code",
   "execution_count": null,
   "metadata": {},
   "outputs": [
    {
     "name": "stderr",
     "output_type": "stream",
     "text": [
      "/var/folders/kl/6ml96vh53xs7nbk2b64wykrw0000gn/T/ipykernel_62707/3385198262.py:1: FutureWarning: 'm' is deprecated and will be removed in a future version, please use 'ME' instead.\n",
      "  weekly_config = pd.Grouper(key='date', freq='m')\n"
     ]
    },
    {
     "data": {
      "text/plain": [
       "Text(0.5, 1.0, 'Weekly standard deviation of stock market performance')"
      ]
     },
     "execution_count": 56,
     "metadata": {},
     "output_type": "execute_result"
    },
    {
     "data": {
      "image/png": "[encoded data removed]",
      "text/plain": [
       "<Figure size 640x480 with 1 Axes>"
      ]
     },
     "metadata": {},
     "output_type": "display_data"
    }
   ],
   "source": [
    "\n",
    "weekly_config = pd.Grouper(key='date', freq='m')\n",
    "\n",
    "weeklydata = (financial\n",
    "               .groupby(weekly_config) \n",
    "               .agg(sp500_sd = (\"sp500\",\"std\"))\n",
    "               .reset_index())\n",
    "\n",
    "plt.plot(\"date\",\"sp500_sd\",\n",
    "          data = weeklydata)\n",
    "plt.xlabel(\"Time\")\n",
    "plt.ylabel(\"S&P 500 Standard Deviation\")\n",
    "plt.title(\"Weekly standard deviation of stock market performance\")\n"
   ]
  },
  {
   "attachments": {},
   "cell_type": "markdown",
   "metadata": {},
   "source": [
    "# <span style=\"color:darkblue\"> IV. Additional Material </span>"
   ]
  },
  {
   "attachments": {},
   "cell_type": "markdown",
   "metadata": {},
   "source": [
    "<font size = \"5\">\n",
    "\n",
    "Full list of wild cards:\n",
    "\n",
    "- More fine-grained, e.g. microseconds, etc.\n",
    "- Other formats, e.g. time zone, \"AM/PM\", etc.\n",
    "\n",
    "https://www.w3schools.com/python/python_datetime.asp"
   ]
  }
 ],
 "metadata": {
  "kernelspec": {
   "display_name": "base",
   "language": "python",
   "name": "python3"
  },
  "language_info": {
   "codemirror_mode": {
    "name": "ipython",
    "version": 3
   },
   "file_extension": ".py",
   "mimetype": "text/x-python",
   "name": "python",
   "nbconvert_exporter": "python",
   "pygments_lexer": "ipython3",
   "version": "3.12.7"
  },
  "orig_nbformat": 4
 },
 "nbformat": 4,
 "nbformat_minor": 2
}
