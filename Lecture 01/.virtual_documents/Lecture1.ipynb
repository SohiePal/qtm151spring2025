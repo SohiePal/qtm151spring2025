


























# Notes about nicknames:
# - For example, "matplotlib.pyplot" is a long name. Let's call it "plt"
# - Similarly, let's call "pandas" as "pd"
# - Try adding your own nickname!
# - To avoid errors, be consistent with your nicknames

import matplotlib.pyplot as plt
import pandas as pd





print('Hello, World!')


# You can use "." to run subcommands contained in a library.
# The subcommand "read_csv()" opens the file in parenthesis.
# We use the "=" symbol to store the dataset in the working environment under the name "carfeatures"

carfeatures = pd.read_csv('data/features.csv')











# Entering the name of a dataframe produces an output with some rows

carfeatures





# We use square brackets [...] to subset information from data 
# Text/strings have to be written in quotation marks
# This command extracts the column 'cylinders'

carfeatures['cylinders']






# crosstab counts how many rows fall into categories
# "index" is the category
# "columns" is a custom title

table = pd.crosstab(index = carfeatures['cylinders'],columns = "count")
table



table.columns.name


table.columns.name = 'column name'
table


#-- Try the command again but this time change the title









# "describe" computes the count, mean, std, min, 25% quantile, 50%, 75%, max
# automatically excludes variables with text values
# otherwise includes all numeric variables

carfeatures.describe()





plt.scatter(x = carfeatures['weight'], y = carfeatures['mpg'])
plt.show()


# Try another scatter plot with x = "acceleration"















